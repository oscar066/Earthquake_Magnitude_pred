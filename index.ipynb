{
 "cells": [
  {
   "cell_type": "code",
   "execution_count": 1,
   "metadata": {},
   "outputs": [],
   "source": [
    "import pandas as pd \n",
    "import numpy as np\n",
    "import seaborn as sns\n",
    "import matplotlib.pyplot as plt\n",
    "\n",
    "import warnings\n",
    "warnings.filterwarnings('ignore')"
   ]
  },
  {
   "cell_type": "code",
   "execution_count": 2,
   "metadata": {},
   "outputs": [
    {
     "data": {
      "text/html": [
       "<div>\n",
       "<style scoped>\n",
       "    .dataframe tbody tr th:only-of-type {\n",
       "        vertical-align: middle;\n",
       "    }\n",
       "\n",
       "    .dataframe tbody tr th {\n",
       "        vertical-align: top;\n",
       "    }\n",
       "\n",
       "    .dataframe thead th {\n",
       "        text-align: right;\n",
       "    }\n",
       "</style>\n",
       "<table border=\"1\" class=\"dataframe\">\n",
       "  <thead>\n",
       "    <tr style=\"text-align: right;\">\n",
       "      <th></th>\n",
       "      <th>_EventID_</th>\n",
       "      <th>_Latitude_</th>\n",
       "      <th>_Longitude_</th>\n",
       "      <th>_DepthMeters_</th>\n",
       "      <th>_Contributor_</th>\n",
       "      <th>_MagType_</th>\n",
       "      <th>_Magnitude_</th>\n",
       "      <th>_EventLocationName_</th>\n",
       "      <th>_Time_</th>\n",
       "      <th>ts</th>\n",
       "      <th>potential_blast</th>\n",
       "      <th>bix_potential_blasts</th>\n",
       "    </tr>\n",
       "  </thead>\n",
       "  <tbody>\n",
       "    <tr>\n",
       "      <th>0</th>\n",
       "      <td>usp000gyu4</td>\n",
       "      <td>39.644</td>\n",
       "      <td>-75.483</td>\n",
       "      <td>5000</td>\n",
       "      <td>NEIC</td>\n",
       "      <td>md</td>\n",
       "      <td>2.8</td>\n",
       "      <td>New Jersey</td>\n",
       "      <td>2009-07-01T13:44:43.380Z</td>\n",
       "      <td>2009/07/01 09:44:43-04</td>\n",
       "      <td>0</td>\n",
       "      <td>0</td>\n",
       "    </tr>\n",
       "    <tr>\n",
       "      <th>1</th>\n",
       "      <td>usp000gyxs</td>\n",
       "      <td>37.379</td>\n",
       "      <td>-80.746</td>\n",
       "      <td>11500</td>\n",
       "      <td>NEIC</td>\n",
       "      <td>mblg</td>\n",
       "      <td>2.8</td>\n",
       "      <td>West Virginia</td>\n",
       "      <td>2009-07-04T12:24:43.460Z</td>\n",
       "      <td>2009/07/04 08:24:43-04</td>\n",
       "      <td>0</td>\n",
       "      <td>0</td>\n",
       "    </tr>\n",
       "    <tr>\n",
       "      <th>2</th>\n",
       "      <td>usp000gz1d</td>\n",
       "      <td>45.296</td>\n",
       "      <td>-73.475</td>\n",
       "      <td>18000</td>\n",
       "      <td>NEIC</td>\n",
       "      <td>md</td>\n",
       "      <td>2.1</td>\n",
       "      <td>southern Quebec, Canada</td>\n",
       "      <td>2009-07-08T10:22:11.430Z</td>\n",
       "      <td>2009/07/08 06:22:11-04</td>\n",
       "      <td>0</td>\n",
       "      <td>0</td>\n",
       "    </tr>\n",
       "    <tr>\n",
       "      <th>3</th>\n",
       "      <td>usp000h1sz</td>\n",
       "      <td>42.825</td>\n",
       "      <td>-78.239</td>\n",
       "      <td>5000</td>\n",
       "      <td>NEIC</td>\n",
       "      <td>md</td>\n",
       "      <td>2.4</td>\n",
       "      <td>New York</td>\n",
       "      <td>2009-09-23T03:45:59.900Z</td>\n",
       "      <td>2009/09/22 23:45:59-04</td>\n",
       "      <td>0</td>\n",
       "      <td>0</td>\n",
       "    </tr>\n",
       "    <tr>\n",
       "      <th>4</th>\n",
       "      <td>usp000hab0</td>\n",
       "      <td>38.619</td>\n",
       "      <td>-80.909</td>\n",
       "      <td>100</td>\n",
       "      <td>NEIC</td>\n",
       "      <td>mblg</td>\n",
       "      <td>3.4</td>\n",
       "      <td>West Virginia</td>\n",
       "      <td>2010-04-04T09:19:14.000Z</td>\n",
       "      <td>2010/04/04 05:19:14-04</td>\n",
       "      <td>0</td>\n",
       "      <td>0</td>\n",
       "    </tr>\n",
       "    <tr>\n",
       "      <th>5</th>\n",
       "      <td>usp000hgny</td>\n",
       "      <td>38.675</td>\n",
       "      <td>-80.820</td>\n",
       "      <td>2300</td>\n",
       "      <td>NEIC</td>\n",
       "      <td>md</td>\n",
       "      <td>2.4</td>\n",
       "      <td>West Virginia</td>\n",
       "      <td>2010-07-24T09:15:44.000Z</td>\n",
       "      <td>2010/07/24 05:15:44-04</td>\n",
       "      <td>0</td>\n",
       "      <td>0</td>\n",
       "    </tr>\n",
       "  </tbody>\n",
       "</table>\n",
       "</div>"
      ],
      "text/plain": [
       "    _EventID_  _Latitude_  _Longitude_  _DepthMeters_ _Contributor_ _MagType_  \\\n",
       "0  usp000gyu4      39.644      -75.483           5000          NEIC        md   \n",
       "1  usp000gyxs      37.379      -80.746          11500          NEIC      mblg   \n",
       "2  usp000gz1d      45.296      -73.475          18000          NEIC        md   \n",
       "3  usp000h1sz      42.825      -78.239           5000          NEIC        md   \n",
       "4  usp000hab0      38.619      -80.909            100          NEIC      mblg   \n",
       "5  usp000hgny      38.675      -80.820           2300          NEIC        md   \n",
       "\n",
       "   _Magnitude_      _EventLocationName_                    _Time_  \\\n",
       "0          2.8               New Jersey  2009-07-01T13:44:43.380Z   \n",
       "1          2.8            West Virginia  2009-07-04T12:24:43.460Z   \n",
       "2          2.1  southern Quebec, Canada  2009-07-08T10:22:11.430Z   \n",
       "3          2.4                 New York  2009-09-23T03:45:59.900Z   \n",
       "4          3.4            West Virginia  2010-04-04T09:19:14.000Z   \n",
       "5          2.4            West Virginia  2010-07-24T09:15:44.000Z   \n",
       "\n",
       "                       ts  potential_blast  bix_potential_blasts  \n",
       "0  2009/07/01 09:44:43-04                0                     0  \n",
       "1  2009/07/04 08:24:43-04                0                     0  \n",
       "2  2009/07/08 06:22:11-04                0                     0  \n",
       "3  2009/09/22 23:45:59-04                0                     0  \n",
       "4  2010/04/04 05:19:14-04                0                     0  \n",
       "5  2010/07/24 05:15:44-04                0                     0  "
      ]
     },
     "execution_count": 2,
     "metadata": {},
     "output_type": "execute_result"
    }
   ],
   "source": [
    "quake_data = pd.read_csv('Earthquakes_earthquakes.csv')\n",
    "quake_data.head(6)"
   ]
  },
  {
   "cell_type": "code",
   "execution_count": 3,
   "metadata": {},
   "outputs": [
    {
     "data": {
      "text/html": [
       "<div>\n",
       "<style scoped>\n",
       "    .dataframe tbody tr th:only-of-type {\n",
       "        vertical-align: middle;\n",
       "    }\n",
       "\n",
       "    .dataframe tbody tr th {\n",
       "        vertical-align: top;\n",
       "    }\n",
       "\n",
       "    .dataframe thead th {\n",
       "        text-align: right;\n",
       "    }\n",
       "</style>\n",
       "<table border=\"1\" class=\"dataframe\">\n",
       "  <thead>\n",
       "    <tr style=\"text-align: right;\">\n",
       "      <th></th>\n",
       "      <th>_EventID_</th>\n",
       "      <th>_Latitude_</th>\n",
       "      <th>_Longitude_</th>\n",
       "      <th>_DepthMeters_</th>\n",
       "      <th>_Contributor_</th>\n",
       "      <th>_MagType_</th>\n",
       "      <th>_Magnitude_</th>\n",
       "      <th>_EventLocationName_</th>\n",
       "      <th>_Time_</th>\n",
       "      <th>ts</th>\n",
       "      <th>potential_blast</th>\n",
       "      <th>bix_potential_blasts</th>\n",
       "    </tr>\n",
       "  </thead>\n",
       "  <tbody>\n",
       "    <tr>\n",
       "      <th>713</th>\n",
       "      <td>4372022</td>\n",
       "      <td>39.7696</td>\n",
       "      <td>-79.8020</td>\n",
       "      <td>7000</td>\n",
       "      <td>ANF</td>\n",
       "      <td>ML</td>\n",
       "      <td>2.1</td>\n",
       "      <td>WEST VIRGINIA</td>\n",
       "      <td>2013-08-16T15:57:37</td>\n",
       "      <td>2013/08/16 11:57:37-04</td>\n",
       "      <td>1</td>\n",
       "      <td>1</td>\n",
       "    </tr>\n",
       "    <tr>\n",
       "      <th>1337</th>\n",
       "      <td>4815562</td>\n",
       "      <td>43.1080</td>\n",
       "      <td>-73.8629</td>\n",
       "      <td>16200</td>\n",
       "      <td>ANF</td>\n",
       "      <td>ML</td>\n",
       "      <td>1.8</td>\n",
       "      <td>NEW YORK</td>\n",
       "      <td>2014-06-05T17:29:21</td>\n",
       "      <td>2014/06/05 13:29:21-04</td>\n",
       "      <td>1</td>\n",
       "      <td>1</td>\n",
       "    </tr>\n",
       "    <tr>\n",
       "      <th>1105</th>\n",
       "      <td>5007613</td>\n",
       "      <td>37.4294</td>\n",
       "      <td>-82.0334</td>\n",
       "      <td>600</td>\n",
       "      <td>ANF</td>\n",
       "      <td>ML</td>\n",
       "      <td>2.3</td>\n",
       "      <td>WEST VIRGINIA</td>\n",
       "      <td>2014-10-29T18:18:42</td>\n",
       "      <td>2014/10/29 14:18:42-04</td>\n",
       "      <td>1</td>\n",
       "      <td>1</td>\n",
       "    </tr>\n",
       "    <tr>\n",
       "      <th>1497</th>\n",
       "      <td>5005496</td>\n",
       "      <td>37.9910</td>\n",
       "      <td>-81.3894</td>\n",
       "      <td>3700</td>\n",
       "      <td>ANF</td>\n",
       "      <td>ML</td>\n",
       "      <td>2.1</td>\n",
       "      <td>WEST VIRGINIA</td>\n",
       "      <td>2014-09-29T16:56:58</td>\n",
       "      <td>2014/09/29 12:56:58-04</td>\n",
       "      <td>1</td>\n",
       "      <td>1</td>\n",
       "    </tr>\n",
       "    <tr>\n",
       "      <th>1068</th>\n",
       "      <td>5007535</td>\n",
       "      <td>42.9118</td>\n",
       "      <td>-74.1227</td>\n",
       "      <td>4900</td>\n",
       "      <td>ANF</td>\n",
       "      <td>ML</td>\n",
       "      <td>2.0</td>\n",
       "      <td>NEW YORK</td>\n",
       "      <td>2014-10-14T14:34:56</td>\n",
       "      <td>2014/10/14 10:34:56-04</td>\n",
       "      <td>1</td>\n",
       "      <td>1</td>\n",
       "    </tr>\n",
       "  </tbody>\n",
       "</table>\n",
       "</div>"
      ],
      "text/plain": [
       "     _EventID_  _Latitude_  _Longitude_  _DepthMeters_ _Contributor_  \\\n",
       "713    4372022     39.7696     -79.8020           7000           ANF   \n",
       "1337   4815562     43.1080     -73.8629          16200           ANF   \n",
       "1105   5007613     37.4294     -82.0334            600           ANF   \n",
       "1497   5005496     37.9910     -81.3894           3700           ANF   \n",
       "1068   5007535     42.9118     -74.1227           4900           ANF   \n",
       "\n",
       "     _MagType_  _Magnitude_ _EventLocationName_               _Time_  \\\n",
       "713         ML          2.1       WEST VIRGINIA  2013-08-16T15:57:37   \n",
       "1337        ML          1.8            NEW YORK  2014-06-05T17:29:21   \n",
       "1105        ML          2.3       WEST VIRGINIA  2014-10-29T18:18:42   \n",
       "1497        ML          2.1       WEST VIRGINIA  2014-09-29T16:56:58   \n",
       "1068        ML          2.0            NEW YORK  2014-10-14T14:34:56   \n",
       "\n",
       "                          ts  potential_blast  bix_potential_blasts  \n",
       "713   2013/08/16 11:57:37-04                1                     1  \n",
       "1337  2014/06/05 13:29:21-04                1                     1  \n",
       "1105  2014/10/29 14:18:42-04                1                     1  \n",
       "1497  2014/09/29 12:56:58-04                1                     1  \n",
       "1068  2014/10/14 10:34:56-04                1                     1  "
      ]
     },
     "execution_count": 3,
     "metadata": {},
     "output_type": "execute_result"
    }
   ],
   "source": [
    "quake_data.sample(5)"
   ]
  },
  {
   "cell_type": "code",
   "execution_count": 4,
   "metadata": {},
   "outputs": [
    {
     "data": {
      "text/html": [
       "<div>\n",
       "<style scoped>\n",
       "    .dataframe tbody tr th:only-of-type {\n",
       "        vertical-align: middle;\n",
       "    }\n",
       "\n",
       "    .dataframe tbody tr th {\n",
       "        vertical-align: top;\n",
       "    }\n",
       "\n",
       "    .dataframe thead th {\n",
       "        text-align: right;\n",
       "    }\n",
       "</style>\n",
       "<table border=\"1\" class=\"dataframe\">\n",
       "  <thead>\n",
       "    <tr style=\"text-align: right;\">\n",
       "      <th></th>\n",
       "      <th>_EventID_</th>\n",
       "      <th>_Latitude_</th>\n",
       "      <th>_Longitude_</th>\n",
       "      <th>_DepthMeters_</th>\n",
       "      <th>_Contributor_</th>\n",
       "      <th>_MagType_</th>\n",
       "      <th>_Magnitude_</th>\n",
       "      <th>_EventLocationName_</th>\n",
       "      <th>_Time_</th>\n",
       "      <th>ts</th>\n",
       "      <th>potential_blast</th>\n",
       "      <th>bix_potential_blasts</th>\n",
       "    </tr>\n",
       "  </thead>\n",
       "  <tbody>\n",
       "    <tr>\n",
       "      <th>1642</th>\n",
       "      <td>5110375</td>\n",
       "      <td>37.9496</td>\n",
       "      <td>-81.3663</td>\n",
       "      <td>9500</td>\n",
       "      <td>ANF</td>\n",
       "      <td>ML</td>\n",
       "      <td>2.3</td>\n",
       "      <td>WEST VIRGINIA</td>\n",
       "      <td>2014-11-14T20:53:10</td>\n",
       "      <td>2014/11/14 15:53:10-05</td>\n",
       "      <td>1</td>\n",
       "      <td>1</td>\n",
       "    </tr>\n",
       "    <tr>\n",
       "      <th>1643</th>\n",
       "      <td>5110460</td>\n",
       "      <td>41.4521</td>\n",
       "      <td>-77.3709</td>\n",
       "      <td>11100</td>\n",
       "      <td>ANF</td>\n",
       "      <td>ML</td>\n",
       "      <td>2.1</td>\n",
       "      <td>PENNSYLVANIA</td>\n",
       "      <td>2014-11-25T16:26:59</td>\n",
       "      <td>2014/11/25 11:26:59-05</td>\n",
       "      <td>1</td>\n",
       "      <td>1</td>\n",
       "    </tr>\n",
       "    <tr>\n",
       "      <th>1644</th>\n",
       "      <td>5110483</td>\n",
       "      <td>41.0997</td>\n",
       "      <td>-78.3670</td>\n",
       "      <td>3100</td>\n",
       "      <td>ANF</td>\n",
       "      <td>ML</td>\n",
       "      <td>2.1</td>\n",
       "      <td>PENNSYLVANIA</td>\n",
       "      <td>2014-11-28T16:14:11</td>\n",
       "      <td>2014/11/28 11:14:11-05</td>\n",
       "      <td>1</td>\n",
       "      <td>1</td>\n",
       "    </tr>\n",
       "    <tr>\n",
       "      <th>1645</th>\n",
       "      <td>5109389</td>\n",
       "      <td>43.7508</td>\n",
       "      <td>-74.1109</td>\n",
       "      <td>17000</td>\n",
       "      <td>ANF</td>\n",
       "      <td>ML</td>\n",
       "      <td>2.2</td>\n",
       "      <td>NEW YORK</td>\n",
       "      <td>2014-12-16T17:58:29</td>\n",
       "      <td>2014/12/16 12:58:29-05</td>\n",
       "      <td>1</td>\n",
       "      <td>1</td>\n",
       "    </tr>\n",
       "    <tr>\n",
       "      <th>1646</th>\n",
       "      <td>5111627</td>\n",
       "      <td>42.4991</td>\n",
       "      <td>-73.8542</td>\n",
       "      <td>18900</td>\n",
       "      <td>ANF</td>\n",
       "      <td>ML</td>\n",
       "      <td>2.2</td>\n",
       "      <td>NEW YORK</td>\n",
       "      <td>2015-01-02T18:08:29</td>\n",
       "      <td>2015/01/02 13:08:29-05</td>\n",
       "      <td>1</td>\n",
       "      <td>1</td>\n",
       "    </tr>\n",
       "  </tbody>\n",
       "</table>\n",
       "</div>"
      ],
      "text/plain": [
       "     _EventID_  _Latitude_  _Longitude_  _DepthMeters_ _Contributor_  \\\n",
       "1642   5110375     37.9496     -81.3663           9500           ANF   \n",
       "1643   5110460     41.4521     -77.3709          11100           ANF   \n",
       "1644   5110483     41.0997     -78.3670           3100           ANF   \n",
       "1645   5109389     43.7508     -74.1109          17000           ANF   \n",
       "1646   5111627     42.4991     -73.8542          18900           ANF   \n",
       "\n",
       "     _MagType_  _Magnitude_ _EventLocationName_               _Time_  \\\n",
       "1642        ML          2.3       WEST VIRGINIA  2014-11-14T20:53:10   \n",
       "1643        ML          2.1        PENNSYLVANIA  2014-11-25T16:26:59   \n",
       "1644        ML          2.1        PENNSYLVANIA  2014-11-28T16:14:11   \n",
       "1645        ML          2.2            NEW YORK  2014-12-16T17:58:29   \n",
       "1646        ML          2.2            NEW YORK  2015-01-02T18:08:29   \n",
       "\n",
       "                          ts  potential_blast  bix_potential_blasts  \n",
       "1642  2014/11/14 15:53:10-05                1                     1  \n",
       "1643  2014/11/25 11:26:59-05                1                     1  \n",
       "1644  2014/11/28 11:14:11-05                1                     1  \n",
       "1645  2014/12/16 12:58:29-05                1                     1  \n",
       "1646  2015/01/02 13:08:29-05                1                     1  "
      ]
     },
     "execution_count": 4,
     "metadata": {},
     "output_type": "execute_result"
    }
   ],
   "source": [
    "quake_data.tail(5)"
   ]
  },
  {
   "cell_type": "code",
   "execution_count": 5,
   "metadata": {},
   "outputs": [
    {
     "data": {
      "text/plain": [
       "(1647, 12)"
      ]
     },
     "execution_count": 5,
     "metadata": {},
     "output_type": "execute_result"
    }
   ],
   "source": [
    "quake_data.shape"
   ]
  },
  {
   "cell_type": "code",
   "execution_count": 6,
   "metadata": {},
   "outputs": [
    {
     "name": "stdout",
     "output_type": "stream",
     "text": [
      "<class 'pandas.core.frame.DataFrame'>\n",
      "RangeIndex: 1647 entries, 0 to 1646\n",
      "Data columns (total 12 columns):\n",
      " #   Column                Non-Null Count  Dtype  \n",
      "---  ------                --------------  -----  \n",
      " 0   _EventID_             1647 non-null   object \n",
      " 1   _Latitude_            1647 non-null   float64\n",
      " 2   _Longitude_           1647 non-null   float64\n",
      " 3   _DepthMeters_         1647 non-null   int64  \n",
      " 4   _Contributor_         1647 non-null   object \n",
      " 5   _MagType_             1628 non-null   object \n",
      " 6   _Magnitude_           1647 non-null   float64\n",
      " 7   _EventLocationName_   1647 non-null   object \n",
      " 8   _Time_                1647 non-null   object \n",
      " 9   ts                    1647 non-null   object \n",
      " 10  potential_blast       1647 non-null   int64  \n",
      " 11  bix_potential_blasts  1647 non-null   int64  \n",
      "dtypes: float64(3), int64(3), object(6)\n",
      "memory usage: 154.5+ KB\n"
     ]
    }
   ],
   "source": [
    "# data understanding\n",
    "quake_data.info()"
   ]
  },
  {
   "cell_type": "code",
   "execution_count": 7,
   "metadata": {},
   "outputs": [
    {
     "data": {
      "text/plain": [
       "_EventID_                object\n",
       "_Latitude_              float64\n",
       "_Longitude_             float64\n",
       "_DepthMeters_             int64\n",
       "_Contributor_            object\n",
       "_MagType_                object\n",
       "_Magnitude_             float64\n",
       "_EventLocationName_      object\n",
       "_Time_                   object\n",
       "ts                       object\n",
       "potential_blast           int64\n",
       "bix_potential_blasts      int64\n",
       "dtype: object"
      ]
     },
     "execution_count": 7,
     "metadata": {},
     "output_type": "execute_result"
    }
   ],
   "source": [
    "quake_data.dtypes"
   ]
  },
  {
   "cell_type": "markdown",
   "metadata": {},
   "source": [
    "### Data Cleaning"
   ]
  },
  {
   "cell_type": "markdown",
   "metadata": {},
   "source": [
    "#### 1. Checking for Completeness"
   ]
  },
  {
   "cell_type": "code",
   "execution_count": 8,
   "metadata": {},
   "outputs": [
    {
     "data": {
      "text/html": [
       "<div>\n",
       "<style scoped>\n",
       "    .dataframe tbody tr th:only-of-type {\n",
       "        vertical-align: middle;\n",
       "    }\n",
       "\n",
       "    .dataframe tbody tr th {\n",
       "        vertical-align: top;\n",
       "    }\n",
       "\n",
       "    .dataframe thead th {\n",
       "        text-align: right;\n",
       "    }\n",
       "</style>\n",
       "<table border=\"1\" class=\"dataframe\">\n",
       "  <thead>\n",
       "    <tr style=\"text-align: right;\">\n",
       "      <th></th>\n",
       "      <th>missing_values</th>\n",
       "      <th>percentage_missing</th>\n",
       "    </tr>\n",
       "  </thead>\n",
       "  <tbody>\n",
       "    <tr>\n",
       "      <th>_EventID_</th>\n",
       "      <td>0</td>\n",
       "      <td>0.000000</td>\n",
       "    </tr>\n",
       "    <tr>\n",
       "      <th>_Latitude_</th>\n",
       "      <td>0</td>\n",
       "      <td>0.000000</td>\n",
       "    </tr>\n",
       "    <tr>\n",
       "      <th>_Longitude_</th>\n",
       "      <td>0</td>\n",
       "      <td>0.000000</td>\n",
       "    </tr>\n",
       "    <tr>\n",
       "      <th>_DepthMeters_</th>\n",
       "      <td>0</td>\n",
       "      <td>0.000000</td>\n",
       "    </tr>\n",
       "    <tr>\n",
       "      <th>_Contributor_</th>\n",
       "      <td>0</td>\n",
       "      <td>0.000000</td>\n",
       "    </tr>\n",
       "    <tr>\n",
       "      <th>_MagType_</th>\n",
       "      <td>19</td>\n",
       "      <td>1.153613</td>\n",
       "    </tr>\n",
       "    <tr>\n",
       "      <th>_Magnitude_</th>\n",
       "      <td>0</td>\n",
       "      <td>0.000000</td>\n",
       "    </tr>\n",
       "    <tr>\n",
       "      <th>_EventLocationName_</th>\n",
       "      <td>0</td>\n",
       "      <td>0.000000</td>\n",
       "    </tr>\n",
       "    <tr>\n",
       "      <th>_Time_</th>\n",
       "      <td>0</td>\n",
       "      <td>0.000000</td>\n",
       "    </tr>\n",
       "    <tr>\n",
       "      <th>ts</th>\n",
       "      <td>0</td>\n",
       "      <td>0.000000</td>\n",
       "    </tr>\n",
       "    <tr>\n",
       "      <th>potential_blast</th>\n",
       "      <td>0</td>\n",
       "      <td>0.000000</td>\n",
       "    </tr>\n",
       "    <tr>\n",
       "      <th>bix_potential_blasts</th>\n",
       "      <td>0</td>\n",
       "      <td>0.000000</td>\n",
       "    </tr>\n",
       "  </tbody>\n",
       "</table>\n",
       "</div>"
      ],
      "text/plain": [
       "                      missing_values  percentage_missing\n",
       "_EventID_                          0            0.000000\n",
       "_Latitude_                         0            0.000000\n",
       "_Longitude_                        0            0.000000\n",
       "_DepthMeters_                      0            0.000000\n",
       "_Contributor_                      0            0.000000\n",
       "_MagType_                         19            1.153613\n",
       "_Magnitude_                        0            0.000000\n",
       "_EventLocationName_                0            0.000000\n",
       "_Time_                             0            0.000000\n",
       "ts                                 0            0.000000\n",
       "potential_blast                    0            0.000000\n",
       "bix_potential_blasts               0            0.000000"
      ]
     },
     "execution_count": 8,
     "metadata": {},
     "output_type": "execute_result"
    }
   ],
   "source": [
    "\n",
    "# check for missing values\n",
    "missing_values = quake_data.isna().sum()\n",
    "percentage_missing = quake_data.isna().sum()/quake_data.shape[0] * 100\n",
    "\n",
    "value = {\n",
    "    'missing_values':missing_values,\n",
    "    'percentage_missing':percentage_missing\n",
    "}\n",
    "\n",
    "frame = pd.DataFrame(value)\n",
    "frame"
   ]
  },
  {
   "cell_type": "markdown",
   "metadata": {},
   "source": [
    "The dataset has 19 missing values on the column \"_MagType_\"."
   ]
  },
  {
   "cell_type": "code",
   "execution_count": 9,
   "metadata": {},
   "outputs": [
    {
     "data": {
      "text/plain": [
       "ML      1261\n",
       "md       109\n",
       "ml       108\n",
       "mblg      96\n",
       "Ml        18\n",
       "mb        14\n",
       "lg        11\n",
       "Md         3\n",
       "mwr        3\n",
       "MbLg       2\n",
       "mwc        2\n",
       "Mw         1\n",
       "Name: _MagType_, dtype: int64"
      ]
     },
     "execution_count": 9,
     "metadata": {},
     "output_type": "execute_result"
    }
   ],
   "source": [
    "# dealing with missing values\n",
    "quake_data._MagType_.value_counts()"
   ]
  },
  {
   "cell_type": "code",
   "execution_count": 10,
   "metadata": {},
   "outputs": [],
   "source": [
    "# replace missing values with the most frequent class which is ML\n",
    "quake_data._MagType_.fillna('ML', inplace=True)"
   ]
  },
  {
   "cell_type": "code",
   "execution_count": 11,
   "metadata": {},
   "outputs": [
    {
     "data": {
      "text/plain": [
       "_EventID_               0\n",
       "_Latitude_              0\n",
       "_Longitude_             0\n",
       "_DepthMeters_           0\n",
       "_Contributor_           0\n",
       "_MagType_               0\n",
       "_Magnitude_             0\n",
       "_EventLocationName_     0\n",
       "_Time_                  0\n",
       "ts                      0\n",
       "potential_blast         0\n",
       "bix_potential_blasts    0\n",
       "dtype: int64"
      ]
     },
     "execution_count": 11,
     "metadata": {},
     "output_type": "execute_result"
    }
   ],
   "source": [
    "quake_data.isna().sum()"
   ]
  },
  {
   "cell_type": "markdown",
   "metadata": {},
   "source": [
    "The missing values are replaced with the mode of the column \"_MagType_\" which is \"ML\"."
   ]
  },
  {
   "cell_type": "markdown",
   "metadata": {},
   "source": [
    "#### 2. Checking for Consistency"
   ]
  },
  {
   "cell_type": "code",
   "execution_count": 12,
   "metadata": {},
   "outputs": [
    {
     "name": "stdout",
     "output_type": "stream",
     "text": [
      "No duplicates\n"
     ]
    }
   ],
   "source": [
    "# check for duplicates\n",
    "duplicates = quake_data[quake_data.duplicated()]\n",
    "if duplicates.empty == True:\n",
    "    print(\"No duplicates\")\n",
    "else:\n",
    "    print(\"Duplicate Rows except first occurrence based on all columns are :\")\n",
    "    print(duplicates)"
   ]
  },
  {
   "cell_type": "markdown",
   "metadata": {},
   "source": [
    "The dataset has no duplicates."
   ]
  },
  {
   "cell_type": "markdown",
   "metadata": {},
   "source": [
    "#### 3. Checking for Uniformity"
   ]
  },
  {
   "cell_type": "code",
   "execution_count": 13,
   "metadata": {},
   "outputs": [
    {
     "data": {
      "text/plain": [
       "<AxesSubplot:>"
      ]
     },
     "execution_count": 13,
     "metadata": {},
     "output_type": "execute_result"
    },
    {
     "data": {
      "image/png": "[encoded data removed]",
      "text/plain": [
       "<Figure size 864x720 with 1 Axes>"
      ]
     },
     "metadata": {
      "needs_background": "light"
     },
     "output_type": "display_data"
    }
   ],
   "source": [
    "# check for outliers\n",
    "quake_data.boxplot(figsize=(12,10))"
   ]
  },
  {
   "cell_type": "markdown",
   "metadata": {},
   "source": [
    "The dataset clearly has outliers on the column \"_DepthMeters_\"."
   ]
  },
  {
   "cell_type": "code",
   "execution_count": 14,
   "metadata": {},
   "outputs": [
    {
     "name": "stdout",
     "output_type": "stream",
     "text": [
      "Lower bound:  -8625.0\n",
      "Upper bound:  23575.0\n",
      "Number of outliers:  8\n",
      "Percentage of outliers:  0.49 %\n",
      "Number of values within bounds:  1639\n",
      "Percentage of values within bounds:  99.51 %\n"
     ]
    }
   ],
   "source": [
    "# dealing with outliers\n",
    "def check_deal_outlier(df, col):\n",
    "    q1 = df[col].quantile(0.25)\n",
    "    q3 = df[col].quantile(0.75)\n",
    "    iqr = q3 - q1\n",
    "    lower_bound = q1 - (1.5 * iqr)\n",
    "    upper_bound = q3 + (1.5 * iqr)\n",
    "    print('Lower bound: ', lower_bound)\n",
    "    print('Upper bound: ', upper_bound)\n",
    "    \n",
    "    outliers = df[(df[col] < lower_bound) | (df[col] > upper_bound)].shape[0]\n",
    "    print('Number of outliers: ',outliers)\n",
    "    percentage_outliers = round(df[(df[col] < lower_bound) | (df[col] > upper_bound)].shape[0]/df.shape[0] * 100, 2)\n",
    "    print('Percentage of outliers: ', percentage_outliers, '%')\n",
    "\n",
    "    values_within_bounds = df[(df[col] > lower_bound) & (df[col] < upper_bound)].shape[0]\n",
    "    print('Number of values within bounds: ', values_within_bounds)\n",
    "\n",
    "    percentage_within_bounds = round(df[(df[col] > lower_bound) & (df[col] < upper_bound)].shape[0]/df.shape[0] * 100, 2)\n",
    "    print('Percentage of values within bounds: ', percentage_within_bounds, '%')\n",
    "\n",
    "    return df[(df[col] >= lower_bound) & (df[col] <= upper_bound)]\n",
    "\n",
    "main_df = check_deal_outlier(quake_data, '_DepthMeters_')"
   ]
  },
  {
   "cell_type": "markdown",
   "metadata": {},
   "source": [
    "Dealing with outliers in the \"_DepthMeters_\" column."
   ]
  },
  {
   "cell_type": "code",
   "execution_count": 15,
   "metadata": {},
   "outputs": [
    {
     "data": {
      "text/html": [
       "<div>\n",
       "<style scoped>\n",
       "    .dataframe tbody tr th:only-of-type {\n",
       "        vertical-align: middle;\n",
       "    }\n",
       "\n",
       "    .dataframe tbody tr th {\n",
       "        vertical-align: top;\n",
       "    }\n",
       "\n",
       "    .dataframe thead th {\n",
       "        text-align: right;\n",
       "    }\n",
       "</style>\n",
       "<table border=\"1\" class=\"dataframe\">\n",
       "  <thead>\n",
       "    <tr style=\"text-align: right;\">\n",
       "      <th></th>\n",
       "      <th>_Latitude_</th>\n",
       "      <th>_Longitude_</th>\n",
       "      <th>_DepthMeters_</th>\n",
       "      <th>_Magnitude_</th>\n",
       "      <th>potential_blast</th>\n",
       "      <th>bix_potential_blasts</th>\n",
       "    </tr>\n",
       "  </thead>\n",
       "  <tbody>\n",
       "    <tr>\n",
       "      <th>count</th>\n",
       "      <td>1647.000000</td>\n",
       "      <td>1647.000000</td>\n",
       "      <td>1647.000000</td>\n",
       "      <td>1647.000000</td>\n",
       "      <td>1647.000000</td>\n",
       "      <td>1647.000000</td>\n",
       "    </tr>\n",
       "    <tr>\n",
       "      <th>mean</th>\n",
       "      <td>39.903436</td>\n",
       "      <td>-79.008111</td>\n",
       "      <td>7561.554341</td>\n",
       "      <td>2.375823</td>\n",
       "      <td>0.621129</td>\n",
       "      <td>0.746812</td>\n",
       "    </tr>\n",
       "    <tr>\n",
       "      <th>std</th>\n",
       "      <td>2.410973</td>\n",
       "      <td>3.192442</td>\n",
       "      <td>5206.616854</td>\n",
       "      <td>0.454489</td>\n",
       "      <td>0.485253</td>\n",
       "      <td>0.434970</td>\n",
       "    </tr>\n",
       "    <tr>\n",
       "      <th>min</th>\n",
       "      <td>37.007700</td>\n",
       "      <td>-82.881000</td>\n",
       "      <td>100.000000</td>\n",
       "      <td>0.000000</td>\n",
       "      <td>0.000000</td>\n",
       "      <td>0.000000</td>\n",
       "    </tr>\n",
       "    <tr>\n",
       "      <th>25%</th>\n",
       "      <td>37.902400</td>\n",
       "      <td>-81.694150</td>\n",
       "      <td>3450.000000</td>\n",
       "      <td>2.100000</td>\n",
       "      <td>0.000000</td>\n",
       "      <td>0.000000</td>\n",
       "    </tr>\n",
       "    <tr>\n",
       "      <th>50%</th>\n",
       "      <td>38.477800</td>\n",
       "      <td>-80.831400</td>\n",
       "      <td>6400.000000</td>\n",
       "      <td>2.400000</td>\n",
       "      <td>1.000000</td>\n",
       "      <td>1.000000</td>\n",
       "    </tr>\n",
       "    <tr>\n",
       "      <th>75%</th>\n",
       "      <td>41.467200</td>\n",
       "      <td>-75.934050</td>\n",
       "      <td>11500.000000</td>\n",
       "      <td>2.600000</td>\n",
       "      <td>1.000000</td>\n",
       "      <td>1.000000</td>\n",
       "    </tr>\n",
       "    <tr>\n",
       "      <th>max</th>\n",
       "      <td>45.300900</td>\n",
       "      <td>-73.063400</td>\n",
       "      <td>32300.000000</td>\n",
       "      <td>5.200000</td>\n",
       "      <td>1.000000</td>\n",
       "      <td>1.000000</td>\n",
       "    </tr>\n",
       "  </tbody>\n",
       "</table>\n",
       "</div>"
      ],
      "text/plain": [
       "        _Latitude_  _Longitude_  _DepthMeters_  _Magnitude_  potential_blast  \\\n",
       "count  1647.000000  1647.000000    1647.000000  1647.000000      1647.000000   \n",
       "mean     39.903436   -79.008111    7561.554341     2.375823         0.621129   \n",
       "std       2.410973     3.192442    5206.616854     0.454489         0.485253   \n",
       "min      37.007700   -82.881000     100.000000     0.000000         0.000000   \n",
       "25%      37.902400   -81.694150    3450.000000     2.100000         0.000000   \n",
       "50%      38.477800   -80.831400    6400.000000     2.400000         1.000000   \n",
       "75%      41.467200   -75.934050   11500.000000     2.600000         1.000000   \n",
       "max      45.300900   -73.063400   32300.000000     5.200000         1.000000   \n",
       "\n",
       "       bix_potential_blasts  \n",
       "count           1647.000000  \n",
       "mean               0.746812  \n",
       "std                0.434970  \n",
       "min                0.000000  \n",
       "25%                0.000000  \n",
       "50%                1.000000  \n",
       "75%                1.000000  \n",
       "max                1.000000  "
      ]
     },
     "execution_count": 15,
     "metadata": {},
     "output_type": "execute_result"
    }
   ],
   "source": [
    "# check for statistical summary of the data\n",
    "quake_data.describe()"
   ]
  },
  {
   "cell_type": "code",
   "execution_count": 16,
   "metadata": {},
   "outputs": [
    {
     "data": {
      "text/plain": [
       "_EventID_                object\n",
       "_Latitude_              float64\n",
       "_Longitude_             float64\n",
       "_DepthMeters_             int64\n",
       "_Contributor_            object\n",
       "_MagType_                object\n",
       "_Magnitude_             float64\n",
       "_EventLocationName_      object\n",
       "_Time_                   object\n",
       "ts                       object\n",
       "potential_blast           int64\n",
       "bix_potential_blasts      int64\n",
       "dtype: object"
      ]
     },
     "execution_count": 16,
     "metadata": {},
     "output_type": "execute_result"
    }
   ],
   "source": [
    "quake_data.dtypes"
   ]
  },
  {
   "cell_type": "code",
   "execution_count": 17,
   "metadata": {},
   "outputs": [],
   "source": [
    "quake_data.drop('_EventID_', axis=1, inplace=True)"
   ]
  },
  {
   "cell_type": "code",
   "execution_count": 18,
   "metadata": {},
   "outputs": [],
   "source": [
    "# converting the data types to the appropriate data types\n",
    "quake_data['Date'] = pd.to_datetime(quake_data['_Time_'])\n",
    "quake_data['_MagType_'] = quake_data['_MagType_'].astype('category')\n",
    "quake_data['_EventLocationName_'] = quake_data['_EventLocationName_'].astype('category')\n",
    "quake_data['_Contributor_'] = quake_data['_Contributor_'].astype('category')\n"
   ]
  },
  {
   "cell_type": "markdown",
   "metadata": {},
   "source": [
    "Converting the column \"_Time_\" to datetime format and the column \"_MagType_\" to categorical format."
   ]
  },
  {
   "cell_type": "code",
   "execution_count": 19,
   "metadata": {},
   "outputs": [],
   "source": [
    "quake_data.rename(columns={'_Time_':'Time', '_Latitude_':'Latitude', '_Longitude_':'Longitude', '_DepthMeters_':'DepthMeters','_Magnitude_':'Magnitude', \n",
    "'_MagType_':'MagType','_Contributor_':'Contributors','_EventLocationName_':'EventLocationName','_EventID_':'EventID'}, inplace=True)"
   ]
  },
  {
   "cell_type": "code",
   "execution_count": 20,
   "metadata": {},
   "outputs": [
    {
     "name": "stdout",
     "output_type": "stream",
     "text": [
      "<class 'pandas.core.frame.DataFrame'>\n",
      "RangeIndex: 1647 entries, 0 to 1646\n",
      "Data columns (total 12 columns):\n",
      " #   Column                Non-Null Count  Dtype   \n",
      "---  ------                --------------  -----   \n",
      " 0   Latitude              1647 non-null   float64 \n",
      " 1   Longitude             1647 non-null   float64 \n",
      " 2   DepthMeters           1647 non-null   int64   \n",
      " 3   Contributors          1647 non-null   category\n",
      " 4   MagType               1647 non-null   category\n",
      " 5   Magnitude             1647 non-null   float64 \n",
      " 6   EventLocationName     1647 non-null   category\n",
      " 7   Time                  1647 non-null   object  \n",
      " 8   ts                    1647 non-null   object  \n",
      " 9   potential_blast       1647 non-null   int64   \n",
      " 10  bix_potential_blasts  1647 non-null   int64   \n",
      " 11  Date                  1647 non-null   object  \n",
      "dtypes: category(3), float64(3), int64(3), object(3)\n",
      "memory usage: 126.3+ KB\n"
     ]
    }
   ],
   "source": [
    "quake_data.info()"
   ]
  },
  {
   "cell_type": "markdown",
   "metadata": {},
   "source": [
    "##  Exploratory Data Analysis"
   ]
  },
  {
   "cell_type": "code",
   "execution_count": 21,
   "metadata": {},
   "outputs": [],
   "source": [
    "sns.set_style('darkgrid')"
   ]
  },
  {
   "cell_type": "code",
   "execution_count": 22,
   "metadata": {},
   "outputs": [
    {
     "data": {
      "text/plain": [
       "ML      1280\n",
       "md       109\n",
       "ml       108\n",
       "mblg      96\n",
       "Ml        18\n",
       "mb        14\n",
       "lg        11\n",
       "Md         3\n",
       "mwr        3\n",
       "MbLg       2\n",
       "mwc        2\n",
       "Mw         1\n",
       "Name: MagType, dtype: int64"
      ]
     },
     "execution_count": 22,
     "metadata": {},
     "output_type": "execute_result"
    }
   ],
   "source": [
    "quake_data.MagType.value_counts()"
   ]
  },
  {
   "cell_type": "code",
   "execution_count": 23,
   "metadata": {},
   "outputs": [
    {
     "data": {
      "image/png": "[encoded data removed]",
      "text/plain": [
       "<Figure size 720x576 with 1 Axes>"
      ]
     },
     "metadata": {},
     "output_type": "display_data"
    }
   ],
   "source": [
    "fig , ax = plt.subplots(figsize=(10,8))\n",
    "sns.countplot(quake_data.MagType, palette='viridis')\n",
    "plt.title('Magnitude Type', fontsize=20)\n",
    "plt.xlabel('Magnitude Type', fontsize=15)\n",
    "plt.ylabel('Count', fontsize=15)\n",
    "plt.xticks(fontsize=12)\n",
    "plt.yticks(fontsize=12)\n",
    "plt.show()"
   ]
  },
  {
   "cell_type": "code",
   "execution_count": 24,
   "metadata": {},
   "outputs": [
    {
     "data": {
      "image/png": "[encoded data removed]",
      "text/plain": [
       "<Figure size 864x576 with 1 Axes>"
      ]
     },
     "metadata": {},
     "output_type": "display_data"
    }
   ],
   "source": [
    "# Magnitude Type vs Magnitude\n",
    "fig , ax = plt.subplots(figsize=(12,8))\n",
    "sns.barplot(quake_data.MagType, quake_data.Magnitude, palette='viridis')\n",
    "plt.title('Magnitude Type vs Magnitude', fontsize=20)\n",
    "plt.xlabel('Magnitude Type', fontsize=15)\n",
    "plt.ylabel('Magnitude', fontsize=15)\n",
    "plt.xticks(fontsize=12)\n",
    "plt.yticks(fontsize=12)\n",
    "plt.show()"
   ]
  },
  {
   "cell_type": "code",
   "execution_count": 25,
   "metadata": {},
   "outputs": [
    {
     "data": {
      "image/png": "[encoded data removed]",
      "text/plain": [
       "<Figure size 864x576 with 1 Axes>"
      ]
     },
     "metadata": {},
     "output_type": "display_data"
    }
   ],
   "source": [
    "# Magnitude Type vs DepthMeters\n",
    "fig , ax = plt.subplots(figsize=(12,8))\n",
    "sns.barplot(quake_data.MagType, quake_data.DepthMeters, palette='viridis')\n",
    "plt.title('Magnitude Type vs DepthMeters', fontsize=20)\n",
    "plt.xlabel('Magnitude Type', fontsize=15)\n",
    "plt.ylabel('DepthMeters', fontsize=15)\n",
    "plt.xticks(fontsize=12)\n",
    "plt.yticks(fontsize=12)\n",
    "plt.show()"
   ]
  },
  {
   "cell_type": "code",
   "execution_count": 26,
   "metadata": {},
   "outputs": [
    {
     "data": {
      "text/plain": [
       "Index(['Latitude', 'Longitude', 'DepthMeters', 'Contributors', 'MagType',\n",
       "       'Magnitude', 'EventLocationName', 'Time', 'ts', 'potential_blast',\n",
       "       'bix_potential_blasts', 'Date'],\n",
       "      dtype='object')"
      ]
     },
     "execution_count": 26,
     "metadata": {},
     "output_type": "execute_result"
    }
   ],
   "source": [
    "quake_data.columns"
   ]
  },
  {
   "cell_type": "code",
   "execution_count": 27,
   "metadata": {},
   "outputs": [
    {
     "data": {
      "image/png": "[encoded data removed]",
      "text/plain": [
       "<Figure size 864x576 with 1 Axes>"
      ]
     },
     "metadata": {},
     "output_type": "display_data"
    }
   ],
   "source": [
    "# top 10 event locations\n",
    "quake_data['EventLocationName'].value_counts().head(10)\n",
    "\n",
    "# plot of the top 10 event locations\n",
    "fig , ax = plt.subplots(figsize=(12,8))\n",
    "quake_data['EventLocationName'].value_counts().head(15).plot(kind='bar', ax=ax, color='green')\n",
    "plt.title('Top 10 Event Locations', fontsize=20)\n",
    "plt.xlabel('Event Location', fontsize=15)\n",
    "plt.ylabel('Count', fontsize=15)\n",
    "plt.xticks(fontsize=12)\n",
    "plt.yticks(fontsize=12)\n",
    "plt.show()"
   ]
  },
  {
   "cell_type": "code",
   "execution_count": 28,
   "metadata": {},
   "outputs": [
    {
     "data": {
      "image/png": "[encoded data removed]",
      "text/plain": [
       "<Figure size 1008x864 with 2 Axes>"
      ]
     },
     "metadata": {},
     "output_type": "display_data"
    }
   ],
   "source": [
    "# heatmap of the correlation between the variables\n",
    "plt.figure(figsize=(14,12))\n",
    "sns.heatmap(quake_data.corr(), annot=True, cmap='viridis')\n",
    "plt.title('Correlation between the variables', fontsize=20)\n",
    "plt.xticks(fontsize=12)\n",
    "plt.yticks(fontsize=12)\n",
    "plt.show()\n"
   ]
  },
  {
   "cell_type": "code",
   "execution_count": 29,
   "metadata": {},
   "outputs": [],
   "source": [
    "# ! pip install plotly"
   ]
  },
  {
   "cell_type": "code",
   "execution_count": 30,
   "metadata": {},
   "outputs": [],
   "source": [
    "from plotly.graph_objs import Scattergeo,Layout\n",
    "from plotly import offline"
   ]
  },
  {
   "cell_type": "code",
   "execution_count": 31,
   "metadata": {},
   "outputs": [
    {
     "data": {
      "text/plain": [
       "'global_earthquakes.html'"
      ]
     },
     "execution_count": 31,
     "metadata": {},
     "output_type": "execute_result"
    }
   ],
   "source": [
    "# map of the earthquakes by magnitude\n",
    "data = [{\n",
    "    'type': 'Scattergeo',\n",
    "    'lon':list(quake_data['Longitude']),\n",
    "    'lat':list(quake_data['Latitude']),\n",
    "    'marker': {\n",
    "         'size':[5*mag for mag in quake_data.Magnitude],\n",
    "         'color':quake_data.Magnitude,\n",
    "         'colorscale':'Reds',\n",
    "         'reversescale':True,\n",
    "         'colorbar':{'title':'Magnitude'},\n",
    "            \n",
    "    },\n",
    "}]\n",
    "\n",
    "data = [Scattergeo(lon=quake_data['Longitude'], lat=quake_data['Latitude'])]\n",
    "my_layout = Layout(title='Global Earthquakes')\n",
    "\n",
    "fig = {'data':data , 'layout':my_layout}\n",
    "offline.plot(fig, filename='global_earthquakes.html',)\n",
    "#offline.plot(fig, filename='global_earthquakes.html',image='png', image_width=2000, image_height=1000)\n"
   ]
  },
  {
   "cell_type": "markdown",
   "metadata": {},
   "source": [
    "## Feature Engineering"
   ]
  },
  {
   "cell_type": "markdown",
   "metadata": {},
   "source": [
    "### 1. Converting Categorical columns to numerical"
   ]
  },
  {
   "cell_type": "code",
   "execution_count": 32,
   "metadata": {},
   "outputs": [
    {
     "data": {
      "text/plain": [
       "Latitude                 float64\n",
       "Longitude                float64\n",
       "DepthMeters                int64\n",
       "Contributors            category\n",
       "MagType                 category\n",
       "Magnitude                float64\n",
       "EventLocationName       category\n",
       "Time                      object\n",
       "ts                        object\n",
       "potential_blast            int64\n",
       "bix_potential_blasts       int64\n",
       "Date                      object\n",
       "dtype: object"
      ]
     },
     "execution_count": 32,
     "metadata": {},
     "output_type": "execute_result"
    }
   ],
   "source": [
    "quake_data.dtypes"
   ]
  },
  {
   "cell_type": "code",
   "execution_count": 33,
   "metadata": {},
   "outputs": [],
   "source": [
    "# label encoding the categorical variables\n",
    "from sklearn.preprocessing import LabelEncoder\n",
    "\n",
    "def label_encoder(df, col):\n",
    "    label_encoder = LabelEncoder()\n",
    "    df[col] = label_encoder.fit_transform(df[col])\n",
    "    return df"
   ]
  },
  {
   "cell_type": "code",
   "execution_count": 34,
   "metadata": {},
   "outputs": [],
   "source": [
    "# check the dataframe for categorical variables and label encode them \n",
    "def check_deal_categorical(df):\n",
    "    categorical = df.select_dtypes(include=['category']).columns\n",
    "    for col in categorical:\n",
    "        df = label_encoder(df, col)\n",
    "    return df.head(5)"
   ]
  },
  {
   "cell_type": "code",
   "execution_count": 35,
   "metadata": {},
   "outputs": [
    {
     "data": {
      "text/html": [
       "<div>\n",
       "<style scoped>\n",
       "    .dataframe tbody tr th:only-of-type {\n",
       "        vertical-align: middle;\n",
       "    }\n",
       "\n",
       "    .dataframe tbody tr th {\n",
       "        vertical-align: top;\n",
       "    }\n",
       "\n",
       "    .dataframe thead th {\n",
       "        text-align: right;\n",
       "    }\n",
       "</style>\n",
       "<table border=\"1\" class=\"dataframe\">\n",
       "  <thead>\n",
       "    <tr style=\"text-align: right;\">\n",
       "      <th></th>\n",
       "      <th>Latitude</th>\n",
       "      <th>Longitude</th>\n",
       "      <th>DepthMeters</th>\n",
       "      <th>Contributors</th>\n",
       "      <th>MagType</th>\n",
       "      <th>Magnitude</th>\n",
       "      <th>EventLocationName</th>\n",
       "      <th>Time</th>\n",
       "      <th>ts</th>\n",
       "      <th>potential_blast</th>\n",
       "      <th>bix_potential_blasts</th>\n",
       "      <th>Date</th>\n",
       "    </tr>\n",
       "  </thead>\n",
       "  <tbody>\n",
       "    <tr>\n",
       "      <th>0</th>\n",
       "      <td>39.644</td>\n",
       "      <td>-75.483</td>\n",
       "      <td>5000</td>\n",
       "      <td>1</td>\n",
       "      <td>8</td>\n",
       "      <td>2.8</td>\n",
       "      <td>101</td>\n",
       "      <td>2009-07-01T13:44:43.380Z</td>\n",
       "      <td>2009/07/01 09:44:43-04</td>\n",
       "      <td>0</td>\n",
       "      <td>0</td>\n",
       "      <td>2009-07-01 13:44:43.380000+00:00</td>\n",
       "    </tr>\n",
       "    <tr>\n",
       "      <th>1</th>\n",
       "      <td>37.379</td>\n",
       "      <td>-80.746</td>\n",
       "      <td>11500</td>\n",
       "      <td>1</td>\n",
       "      <td>7</td>\n",
       "      <td>2.8</td>\n",
       "      <td>114</td>\n",
       "      <td>2009-07-04T12:24:43.460Z</td>\n",
       "      <td>2009/07/04 08:24:43-04</td>\n",
       "      <td>0</td>\n",
       "      <td>0</td>\n",
       "      <td>2009-07-04 12:24:43.460000+00:00</td>\n",
       "    </tr>\n",
       "    <tr>\n",
       "      <th>2</th>\n",
       "      <td>45.296</td>\n",
       "      <td>-73.475</td>\n",
       "      <td>18000</td>\n",
       "      <td>1</td>\n",
       "      <td>8</td>\n",
       "      <td>2.1</td>\n",
       "      <td>119</td>\n",
       "      <td>2009-07-08T10:22:11.430Z</td>\n",
       "      <td>2009/07/08 06:22:11-04</td>\n",
       "      <td>0</td>\n",
       "      <td>0</td>\n",
       "      <td>2009-07-08 10:22:11.430000+00:00</td>\n",
       "    </tr>\n",
       "    <tr>\n",
       "      <th>3</th>\n",
       "      <td>42.825</td>\n",
       "      <td>-78.239</td>\n",
       "      <td>5000</td>\n",
       "      <td>1</td>\n",
       "      <td>8</td>\n",
       "      <td>2.4</td>\n",
       "      <td>102</td>\n",
       "      <td>2009-09-23T03:45:59.900Z</td>\n",
       "      <td>2009/09/22 23:45:59-04</td>\n",
       "      <td>0</td>\n",
       "      <td>0</td>\n",
       "      <td>2009-09-23 03:45:59.900000+00:00</td>\n",
       "    </tr>\n",
       "    <tr>\n",
       "      <th>4</th>\n",
       "      <td>38.619</td>\n",
       "      <td>-80.909</td>\n",
       "      <td>100</td>\n",
       "      <td>1</td>\n",
       "      <td>7</td>\n",
       "      <td>3.4</td>\n",
       "      <td>114</td>\n",
       "      <td>2010-04-04T09:19:14.000Z</td>\n",
       "      <td>2010/04/04 05:19:14-04</td>\n",
       "      <td>0</td>\n",
       "      <td>0</td>\n",
       "      <td>2010-04-04 09:19:14+00:00</td>\n",
       "    </tr>\n",
       "  </tbody>\n",
       "</table>\n",
       "</div>"
      ],
      "text/plain": [
       "   Latitude  Longitude  DepthMeters  Contributors  MagType  Magnitude  \\\n",
       "0    39.644    -75.483         5000             1        8        2.8   \n",
       "1    37.379    -80.746        11500             1        7        2.8   \n",
       "2    45.296    -73.475        18000             1        8        2.1   \n",
       "3    42.825    -78.239         5000             1        8        2.4   \n",
       "4    38.619    -80.909          100             1        7        3.4   \n",
       "\n",
       "   EventLocationName                      Time                      ts  \\\n",
       "0                101  2009-07-01T13:44:43.380Z  2009/07/01 09:44:43-04   \n",
       "1                114  2009-07-04T12:24:43.460Z  2009/07/04 08:24:43-04   \n",
       "2                119  2009-07-08T10:22:11.430Z  2009/07/08 06:22:11-04   \n",
       "3                102  2009-09-23T03:45:59.900Z  2009/09/22 23:45:59-04   \n",
       "4                114  2010-04-04T09:19:14.000Z  2010/04/04 05:19:14-04   \n",
       "\n",
       "   potential_blast  bix_potential_blasts                              Date  \n",
       "0                0                     0  2009-07-01 13:44:43.380000+00:00  \n",
       "1                0                     0  2009-07-04 12:24:43.460000+00:00  \n",
       "2                0                     0  2009-07-08 10:22:11.430000+00:00  \n",
       "3                0                     0  2009-09-23 03:45:59.900000+00:00  \n",
       "4                0                     0         2010-04-04 09:19:14+00:00  "
      ]
     },
     "execution_count": 35,
     "metadata": {},
     "output_type": "execute_result"
    }
   ],
   "source": [
    "check_deal_categorical(quake_data)"
   ]
  },
  {
   "cell_type": "code",
   "execution_count": 36,
   "metadata": {},
   "outputs": [
    {
     "data": {
      "text/plain": [
       "Latitude                float64\n",
       "Longitude               float64\n",
       "DepthMeters               int64\n",
       "Contributors              int64\n",
       "MagType                   int64\n",
       "Magnitude               float64\n",
       "EventLocationName         int64\n",
       "Time                     object\n",
       "ts                       object\n",
       "potential_blast           int64\n",
       "bix_potential_blasts      int64\n",
       "Date                     object\n",
       "dtype: object"
      ]
     },
     "execution_count": 36,
     "metadata": {},
     "output_type": "execute_result"
    }
   ],
   "source": [
    "quake_data.dtypes"
   ]
  },
  {
   "cell_type": "code",
   "execution_count": 37,
   "metadata": {},
   "outputs": [],
   "source": [
    "quake_data.drop(['Date','Time','ts'], axis=1,inplace=True)"
   ]
  },
  {
   "cell_type": "code",
   "execution_count": 38,
   "metadata": {},
   "outputs": [
    {
     "data": {
      "text/html": [
       "<div>\n",
       "<style scoped>\n",
       "    .dataframe tbody tr th:only-of-type {\n",
       "        vertical-align: middle;\n",
       "    }\n",
       "\n",
       "    .dataframe tbody tr th {\n",
       "        vertical-align: top;\n",
       "    }\n",
       "\n",
       "    .dataframe thead th {\n",
       "        text-align: right;\n",
       "    }\n",
       "</style>\n",
       "<table border=\"1\" class=\"dataframe\">\n",
       "  <thead>\n",
       "    <tr style=\"text-align: right;\">\n",
       "      <th></th>\n",
       "      <th>Latitude</th>\n",
       "      <th>Longitude</th>\n",
       "      <th>DepthMeters</th>\n",
       "      <th>Contributors</th>\n",
       "      <th>MagType</th>\n",
       "      <th>Magnitude</th>\n",
       "      <th>EventLocationName</th>\n",
       "      <th>potential_blast</th>\n",
       "      <th>bix_potential_blasts</th>\n",
       "    </tr>\n",
       "  </thead>\n",
       "  <tbody>\n",
       "    <tr>\n",
       "      <th>0</th>\n",
       "      <td>39.644</td>\n",
       "      <td>-75.483</td>\n",
       "      <td>5000</td>\n",
       "      <td>1</td>\n",
       "      <td>8</td>\n",
       "      <td>2.8</td>\n",
       "      <td>101</td>\n",
       "      <td>0</td>\n",
       "      <td>0</td>\n",
       "    </tr>\n",
       "    <tr>\n",
       "      <th>1</th>\n",
       "      <td>37.379</td>\n",
       "      <td>-80.746</td>\n",
       "      <td>11500</td>\n",
       "      <td>1</td>\n",
       "      <td>7</td>\n",
       "      <td>2.8</td>\n",
       "      <td>114</td>\n",
       "      <td>0</td>\n",
       "      <td>0</td>\n",
       "    </tr>\n",
       "    <tr>\n",
       "      <th>2</th>\n",
       "      <td>45.296</td>\n",
       "      <td>-73.475</td>\n",
       "      <td>18000</td>\n",
       "      <td>1</td>\n",
       "      <td>8</td>\n",
       "      <td>2.1</td>\n",
       "      <td>119</td>\n",
       "      <td>0</td>\n",
       "      <td>0</td>\n",
       "    </tr>\n",
       "    <tr>\n",
       "      <th>3</th>\n",
       "      <td>42.825</td>\n",
       "      <td>-78.239</td>\n",
       "      <td>5000</td>\n",
       "      <td>1</td>\n",
       "      <td>8</td>\n",
       "      <td>2.4</td>\n",
       "      <td>102</td>\n",
       "      <td>0</td>\n",
       "      <td>0</td>\n",
       "    </tr>\n",
       "    <tr>\n",
       "      <th>4</th>\n",
       "      <td>38.619</td>\n",
       "      <td>-80.909</td>\n",
       "      <td>100</td>\n",
       "      <td>1</td>\n",
       "      <td>7</td>\n",
       "      <td>3.4</td>\n",
       "      <td>114</td>\n",
       "      <td>0</td>\n",
       "      <td>0</td>\n",
       "    </tr>\n",
       "  </tbody>\n",
       "</table>\n",
       "</div>"
      ],
      "text/plain": [
       "   Latitude  Longitude  DepthMeters  Contributors  MagType  Magnitude  \\\n",
       "0    39.644    -75.483         5000             1        8        2.8   \n",
       "1    37.379    -80.746        11500             1        7        2.8   \n",
       "2    45.296    -73.475        18000             1        8        2.1   \n",
       "3    42.825    -78.239         5000             1        8        2.4   \n",
       "4    38.619    -80.909          100             1        7        3.4   \n",
       "\n",
       "   EventLocationName  potential_blast  bix_potential_blasts  \n",
       "0                101                0                     0  \n",
       "1                114                0                     0  \n",
       "2                119                0                     0  \n",
       "3                102                0                     0  \n",
       "4                114                0                     0  "
      ]
     },
     "execution_count": 38,
     "metadata": {},
     "output_type": "execute_result"
    }
   ],
   "source": [
    "quake_data.head()"
   ]
  },
  {
   "cell_type": "code",
   "execution_count": 39,
   "metadata": {},
   "outputs": [
    {
     "data": {
      "text/plain": [
       "(1647, 9)"
      ]
     },
     "execution_count": 39,
     "metadata": {},
     "output_type": "execute_result"
    }
   ],
   "source": [
    "quake_data.shape"
   ]
  },
  {
   "cell_type": "markdown",
   "metadata": {},
   "source": [
    "#### 2. Feature Scaling"
   ]
  },
  {
   "cell_type": "code",
   "execution_count": 40,
   "metadata": {},
   "outputs": [],
   "source": [
    "# feature scaling \n",
    "from sklearn.preprocessing import StandardScaler\n",
    "\n",
    "def feature_scaling(df):\n",
    "    scaler = StandardScaler()\n",
    "    scaled_data = scaler.fit_transform(df)\n",
    "    return scaled_data"
   ]
  },
  {
   "cell_type": "code",
   "execution_count": 41,
   "metadata": {},
   "outputs": [],
   "source": [
    "scaled_data = feature_scaling(quake_data)"
   ]
  },
  {
   "cell_type": "code",
   "execution_count": 42,
   "metadata": {},
   "outputs": [
    {
     "data": {
      "text/plain": [
       "array([[-0.10763906,  1.10454078, -0.49213   , ..., -0.24630818,\n",
       "        -1.28039958, -1.71745168],\n",
       "       [-1.04737924, -0.54454139,  0.7566606 , ...,  0.52301414,\n",
       "        -1.28039958, -1.71745168],\n",
       "       [ 2.23735497,  1.73371748,  2.0054512 , ...,  0.81890734,\n",
       "        -1.28039958, -1.71745168],\n",
       "       ...,\n",
       "       [ 0.49632552,  0.2008826 , -0.8571611 , ...,  0.04958502,\n",
       "         0.78100619,  0.58225801],\n",
       "       [ 1.59625717,  1.53446775,  1.81332957, ..., -0.30548682,\n",
       "         0.78100619,  0.58225801],\n",
       "       [ 1.07693144,  1.61490085,  2.17836067, ..., -0.30548682,\n",
       "         0.78100619,  0.58225801]])"
      ]
     },
     "execution_count": 42,
     "metadata": {},
     "output_type": "execute_result"
    }
   ],
   "source": [
    "scaled_data"
   ]
  },
  {
   "cell_type": "markdown",
   "metadata": {},
   "source": [
    "#### 3. Feature Selection and Extraction"
   ]
  },
  {
   "cell_type": "code",
   "execution_count": 43,
   "metadata": {},
   "outputs": [],
   "source": [
    "# feature selection \n",
    "from sklearn.feature_selection import SelectKBest\n",
    "\n",
    "def feature_selection(df, target, k):\n",
    "    selector = SelectKBest(k=k)\n",
    "    selector.fit(df, target)\n",
    "    return selector\n",
    "    "
   ]
  },
  {
   "cell_type": "code",
   "execution_count": 44,
   "metadata": {},
   "outputs": [
    {
     "data": {
      "text/plain": [
       "Index(['Latitude', 'Longitude', 'Contributors', 'MagType', 'Magnitude',\n",
       "       'EventLocationName', 'potential_blast', 'bix_potential_blasts'],\n",
       "      dtype='object')"
      ]
     },
     "execution_count": 44,
     "metadata": {},
     "output_type": "execute_result"
    }
   ],
   "source": [
    "feature_selection(scaled_data, quake_data.Magnitude, 8)\n",
    "\n",
    "# show the selected features\n",
    "selected_features = feature_selection(scaled_data, quake_data.Magnitude, 8).get_support(indices=True)\n",
    "selected_features\n",
    "\n",
    "# match the selected feature to features in the quake_data features\n",
    "quake_data.columns[selected_features]\n"
   ]
  },
  {
   "cell_type": "code",
   "execution_count": 45,
   "metadata": {},
   "outputs": [
    {
     "data": {
      "text/plain": [
       "array([1.80430261e-04, 1.86376567e-04, 6.88005047e-04, 1.12737948e-06,\n",
       "       1.68790212e-04, 9.98479481e-01, 2.95538288e-04, 1.07693558e-07,\n",
       "       1.43913692e-07])"
      ]
     },
     "execution_count": 45,
     "metadata": {},
     "output_type": "execute_result"
    }
   ],
   "source": [
    "# feture selection using random forest \n",
    "from sklearn.ensemble import RandomForestRegressor\n",
    "\n",
    "def feature_selection_random_forest(df, target):\n",
    "    selector = RandomForestRegressor(n_estimators=100, random_state=42)\n",
    "    selector.fit(df, target)\n",
    "    return selector.feature_importances_\n",
    "\n",
    "feature_selection_random_forest(scaled_data, quake_data.Magnitude)"
   ]
  },
  {
   "cell_type": "code",
   "execution_count": 46,
   "metadata": {},
   "outputs": [
    {
     "data": {
      "text/plain": [
       "Index(['Contributors', 'MagType', 'Latitude', 'Longitude', 'EventLocationName',\n",
       "       'DepthMeters', 'Magnitude'],\n",
       "      dtype='object')"
      ]
     },
     "execution_count": 46,
     "metadata": {},
     "output_type": "execute_result"
    }
   ],
   "source": [
    "# match the selected feature to features in the quake_data features\n",
    "quake_data.columns[feature_selection_random_forest(scaled_data, quake_data.Magnitude).argsort()[-7:]]"
   ]
  },
  {
   "cell_type": "code",
   "execution_count": 47,
   "metadata": {},
   "outputs": [
    {
     "data": {
      "image/png": "[encoded data removed]",
      "text/plain": [
       "<Figure size 720x576 with 1 Axes>"
      ]
     },
     "metadata": {},
     "output_type": "display_data"
    }
   ],
   "source": [
    "# plot the feature importance\n",
    "plt.figure(figsize=(10,8))\n",
    "plt.title('Feature Importance', fontsize=20)\n",
    "plt.barh(quake_data.columns[feature_selection_random_forest(scaled_data, quake_data.Magnitude).argsort()[-9:]],\n",
    "            feature_selection_random_forest(scaled_data, quake_data.Magnitude).argsort()[-9:])\n",
    "plt.xlabel('Feature Importance', fontsize=15)\n",
    "plt.ylabel('Features', fontsize=15)\n",
    "plt.xticks(fontsize=12)\n",
    "plt.yticks(fontsize=12)\n",
    "plt.show()\n"
   ]
  },
  {
   "cell_type": "code",
   "execution_count": 48,
   "metadata": {},
   "outputs": [],
   "source": [
    "# dropping the least important features\n",
    "#quake_data.drop('Latitude', axis=1, inplace=True)"
   ]
  },
  {
   "cell_type": "markdown",
   "metadata": {},
   "source": [
    "### Model Building"
   ]
  },
  {
   "cell_type": "code",
   "execution_count": 49,
   "metadata": {},
   "outputs": [],
   "source": [
    "# splitting the data into train and test data \n",
    "from sklearn.model_selection import train_test_split\n",
    "\n",
    "X = quake_data.drop('Magnitude', axis=1)\n",
    "y = quake_data['Magnitude']\n",
    "\n",
    "X_train, X_test, y_train, y_test = train_test_split(X, y, test_size=0.25, random_state=42)"
   ]
  },
  {
   "cell_type": "markdown",
   "metadata": {},
   "source": [
    "#### Baseline Model"
   ]
  },
  {
   "cell_type": "markdown",
   "metadata": {},
   "source": [
    "#### 1. Logistic Regression"
   ]
  },
  {
   "cell_type": "code",
   "execution_count": 50,
   "metadata": {},
   "outputs": [],
   "source": [
    "from sklearn.linear_model import LinearRegression\n",
    "\n",
    "# linear regression model\n",
    "def linear_regression(X_train, y_train):\n",
    "    model = LinearRegression()\n",
    "    model.fit(X_train, y_train)\n",
    "    return model\n",
    "\n",
    "model1 = linear_regression(X_train, y_train)"
   ]
  },
  {
   "cell_type": "code",
   "execution_count": 51,
   "metadata": {},
   "outputs": [],
   "source": [
    "def linear_regression_predict(model, X_test):\n",
    "    return model.predict(X_test)\n",
    "\n",
    "model1_predict = linear_regression_predict(model1, X_test)"
   ]
  },
  {
   "cell_type": "code",
   "execution_count": 52,
   "metadata": {},
   "outputs": [
    {
     "name": "stdout",
     "output_type": "stream",
     "text": [
      "Mean Squared Error:  0.15642923205279355\n",
      "R2 Score:  0.28354184694908\n"
     ]
    }
   ],
   "source": [
    "def linear_evaluation(y_test, y_pred):\n",
    "    from sklearn.metrics import mean_squared_error, r2_score\n",
    "    print('Mean Squared Error: ', mean_squared_error(y_test, y_pred))\n",
    "    print('R2 Score: ', r2_score(y_test, y_pred))\n",
    "\n",
    "linear_evaluation(y_test, linear_regression_predict(linear_regression(X_train, y_train), X_test))"
   ]
  },
  {
   "cell_type": "markdown",
   "metadata": {},
   "source": [
    "#### 2.Decision Tree"
   ]
  },
  {
   "cell_type": "code",
   "execution_count": 53,
   "metadata": {},
   "outputs": [],
   "source": [
    "from sklearn.tree import DecisionTreeRegressor\n",
    "\n",
    "# decision tree model\n",
    "def decision_tree(X_train, y_train):\n",
    "    model = DecisionTreeRegressor()\n",
    "    model.fit(X_train, y_train)\n",
    "    return model\n",
    "\n",
    "model2 = decision_tree(X_train, y_train)"
   ]
  },
  {
   "cell_type": "code",
   "execution_count": 54,
   "metadata": {},
   "outputs": [],
   "source": [
    "# decision tree model prediction\n",
    "def decision_tree_predict(model, X_test):\n",
    "    return model.predict(X_test)\n",
    "\n",
    "model2_predict = decision_tree_predict(model2, X_test)"
   ]
  },
  {
   "cell_type": "code",
   "execution_count": 55,
   "metadata": {},
   "outputs": [
    {
     "name": "stdout",
     "output_type": "stream",
     "text": [
      "Mean Squared Error:  0.19837463592233007\n",
      "R2 Score:  0.09142860704516798\n"
     ]
    }
   ],
   "source": [
    "# decision tree model evaluation\n",
    "def decision_tree_evaluation(y_test, y_pred):\n",
    "    from sklearn.metrics import mean_squared_error, r2_score\n",
    "    print('Mean Squared Error: ', mean_squared_error(y_test, y_pred))\n",
    "    print('R2 Score: ', r2_score(y_test, y_pred))\n",
    "\n",
    "decision_tree_evaluation(y_test, decision_tree_predict(decision_tree(X_train, y_train), X_test))"
   ]
  },
  {
   "cell_type": "markdown",
   "metadata": {},
   "source": [
    "The decision tree regressor better in terms of a lower mse than the base linear regression model ,however, it has a very low R2 score of 0.09"
   ]
  },
  {
   "cell_type": "markdown",
   "metadata": {},
   "source": [
    "#### 3. Random Forest"
   ]
  },
  {
   "cell_type": "code",
   "execution_count": 56,
   "metadata": {},
   "outputs": [],
   "source": [
    "# random forest model\n",
    "\n",
    "from sklearn.ensemble import RandomForestRegressor\n",
    "\n",
    "def random_forest(X_train, y_train):\n",
    "    model = RandomForestRegressor()\n",
    "    model.fit(X_train, y_train)\n",
    "    return model\n",
    "\n",
    "model3 = random_forest(X_train, y_train)"
   ]
  },
  {
   "cell_type": "code",
   "execution_count": 57,
   "metadata": {},
   "outputs": [],
   "source": [
    "# random forest model prediction\n",
    "def random_forest_predict(model, X_test):\n",
    "    return model.predict(X_test)\n",
    "\n",
    "model3_predict = random_forest_predict(model3, X_test)"
   ]
  },
  {
   "cell_type": "code",
   "execution_count": 58,
   "metadata": {},
   "outputs": [
    {
     "name": "stdout",
     "output_type": "stream",
     "text": [
      "Mean Squared Error:  0.10795286679577502\n",
      "R2 Score:  0.5055674022937726\n"
     ]
    }
   ],
   "source": [
    "# random forest model evaluation\n",
    "def random_forest_evaluation(y_test, y_pred):\n",
    "    from sklearn.metrics import mean_squared_error, r2_score\n",
    "    print('Mean Squared Error: ', mean_squared_error(y_test, y_pred))\n",
    "    print('R2 Score: ', r2_score(y_test, y_pred))\n",
    "\n",
    "random_forest_evaluation(y_test, random_forest_predict(random_forest(X_train, y_train), X_test))"
   ]
  },
  {
   "cell_type": "markdown",
   "metadata": {},
   "source": [
    "Since the Random forest has the lowest Mean Squared Error and the highest R2 score, it is the best model for this dataset."
   ]
  },
  {
   "cell_type": "code",
   "execution_count": 59,
   "metadata": {},
   "outputs": [
    {
     "data": {
      "text/plain": [
       "{'max_depth': 10, 'n_estimators': 400}"
      ]
     },
     "execution_count": 59,
     "metadata": {},
     "output_type": "execute_result"
    }
   ],
   "source": [
    "# tuning the random forest model\n",
    "\n",
    "from sklearn.model_selection import GridSearchCV\n",
    "\n",
    "def random_forest_tuning(X_train, y_train):\n",
    "    model = RandomForestRegressor()\n",
    "    param_grid = {'n_estimators': [100, 200, 300, 400, 500], 'max_depth': [5, 10, 15, 20, 25, 30]}\n",
    "    grid_search = GridSearchCV(model, param_grid, cv=5, scoring='neg_mean_squared_error')\n",
    "    grid_search.fit(X_train, y_train)\n",
    "    return grid_search.best_params_\n",
    "\n",
    "random_forest_tuning(X_train, y_train)"
   ]
  },
  {
   "cell_type": "code",
   "execution_count": 65,
   "metadata": {},
   "outputs": [],
   "source": [
    "# random forest model with tuned parameters\n",
    "def random_forest_tuned(X_train, y_train):\n",
    "    model = RandomForestRegressor(n_estimators=400, max_depth=10)\n",
    "    model.fit(X_train, y_train)\n",
    "    return model\n",
    "\n",
    "model4 = random_forest_tuned(X_train, y_train)"
   ]
  },
  {
   "cell_type": "code",
   "execution_count": 66,
   "metadata": {},
   "outputs": [],
   "source": [
    "# random forest model prediction\n",
    "def random_forest_tuned_predict(model, X_test):\n",
    "    return model.predict(X_test)"
   ]
  },
  {
   "cell_type": "code",
   "execution_count": 67,
   "metadata": {},
   "outputs": [
    {
     "name": "stdout",
     "output_type": "stream",
     "text": [
      "Mean Squared Error:  0.10626815612640285\n",
      "R2 Score:  0.5132835093075576\n"
     ]
    }
   ],
   "source": [
    "# random forest model evaluation\n",
    "def random_forest_tuned_evaluation(y_test, y_pred):\n",
    "    from sklearn.metrics import mean_squared_error, r2_score\n",
    "    print('Mean Squared Error: ', mean_squared_error(y_test, y_pred))\n",
    "    print('R2 Score: ', r2_score(y_test, y_pred))\n",
    "\n",
    "random_forest_tuned_evaluation(y_test, random_forest_tuned_predict(random_forest_tuned(X_train, y_train), X_test))"
   ]
  },
  {
   "cell_type": "code",
   "execution_count": 68,
   "metadata": {},
   "outputs": [
    {
     "data": {
      "text/plain": [
       "array([-0.28059154, -0.13775686, -0.11749476, -0.09810906, -0.06565819,\n",
       "       -0.06622948, -0.06591842, -0.08817389, -0.17786897, -0.09470738])"
      ]
     },
     "execution_count": 68,
     "metadata": {},
     "output_type": "execute_result"
    }
   ],
   "source": [
    "# cross validation \n",
    "from sklearn.model_selection import cross_val_score\n",
    "\n",
    "def cross_validation(model, X, y):\n",
    "    scores = cross_val_score(model, X, y, scoring='neg_mean_squared_error', cv=10)\n",
    "    return scores\n",
    "\n",
    "cross_validation(random_forest_tuned(X_train, y_train), X, y)"
   ]
  },
  {
   "cell_type": "markdown",
   "metadata": {},
   "source": [
    "## Conclusion"
   ]
  },
  {
   "cell_type": "markdown",
   "metadata": {},
   "source": [
    "### Saving the final model"
   ]
  },
  {
   "cell_type": "code",
   "execution_count": 69,
   "metadata": {},
   "outputs": [],
   "source": [
    "# saving the model\n",
    "import pickle\n",
    "\n",
    "def save_model(model, filename):\n",
    "    pickle.dump(model, open(filename, 'wb'))\n",
    "\n",
    "save_model(random_forest_tuned(X_train, y_train), 'model.pkl')"
   ]
  }
 ],
 "metadata": {
  "kernelspec": {
   "display_name": "Python 3.9.7 ('data')",
   "language": "python",
   "name": "python3"
  },
  "language_info": {
   "codemirror_mode": {
    "name": "ipython",
    "version": 3
   },
   "file_extension": ".py",
   "mimetype": "text/x-python",
   "name": "python",
   "nbconvert_exporter": "python",
   "pygments_lexer": "ipython3",
   "version": "3.9.7"
  },
  "orig_nbformat": 4,
  "vscode": {
   "interpreter": {
    "hash": "4b5221f7fd568601ffb692ded55cc6a8f9f720c6422993e13b3964f3c2d5ea0a"
   }
  }
 },
 "nbformat": 4,
 "nbformat_minor": 2
}
